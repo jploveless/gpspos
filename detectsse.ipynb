{
 "cells": [
  {
   "cell_type": "code",
   "execution_count": null,
   "metadata": {},
   "outputs": [],
   "source": [
    "def detectsse(s, np, scorethresh, minsta, scoresign):\n",
    "    # get first and last days of observations for all stations\n",
    "    datesleft = "
   ]
  },
  {
   "cell_type": "code",
   "execution_count": null,
   "metadata": {},
   "outputs": [],
   "source": [
    "import numpy\n",
    "\n",
    "def shiftcols(A, lr = 1):\n",
    "    \n",
    "    # get matrix size\n",
    "    rows = len(A[:,0])\n",
    "    columns = len(A[0,:])\n",
    "    sa = [rows, columns]\n",
    "\n",
    "    nz = A != 0 # nonzero values of A\n",
    "    snz = nz.sum(axis = 1) # sum across columns; number of non-zeros in each row\n",
    "    B = [[0 for col in range(sa[0])] for row in range(sa[1])] # empty matrix for B\n",
    "\n",
    "    rmat = tile(numpy.transpose(list(range(1, sa[0] + 1))), (1, sa[1])) # row indices\n",
    "    rmat = rmat(nz) # retain only row indices for nonzero values"
   ]
  }
 ],
 "metadata": {
  "language_info": {
   "name": "python"
  },
  "orig_nbformat": 4
 },
 "nbformat": 4,
 "nbformat_minor": 2
}

{
 "cells": [
  {
   "cell_type": "code",
   "execution_count": 1,
   "metadata": {},
   "outputs": [],
   "source": [
    "import os\n",
    "import numpy as np\n",
    "import pandas as pd\n",
    "from datetime import datetime\n",
    "from datetime import date\n",
    "import re\n",
    "\n",
    "# Check main directory\n",
    "maindir = \"./f5\"\n",
    "yeardirs = [x for x in os.listdir(maindir) if os.path.isdir(os.path.join(maindir, x))]  # List of annual directories\n",
    "yeardirs = np.sort(yeardirs)\n",
    "\n",
    "# Set up blank arrays\n",
    "ndates = (date.today()-date(int(yeardirs[0]), 1, 1)).days\n",
    "fulldates = pd.date_range(date(int(yeardirs[0]), 1, 1), date.today())\n",
    "\n",
    "stanames = [] # To hold unique station names\n",
    "allyeardirs = [] # To hold repeated year directory names\n",
    "allposfiles = [] # To hold .pos filenames\n",
    "\n",
    "# Loops through years\n",
    "for i in range(len(yeardirs)):\n",
    "# Get list of .pos files\n",
    "    posfiles = [x for x in os.listdir(os.path.join(maindir, yeardirs[i])) if (x[-3:] == \"pos\")]\n",
    "    allyeardirs = allyeardirs + [yeardirs[i]]*len(posfiles)\n",
    "    allposfiles = allposfiles + posfiles\n",
    "    # Extract station names from .pos filenames\n",
    "    staname = [x[0:-7] for x in posfiles]\n",
    "    stanames = list(set(stanames + staname))\n",
    "    stanames.sort()\n",
    "\n",
    "nsta = len(stanames)\n",
    "# Blank position arrays\n",
    "X = np.zeros([nsta, ndates+1])\n",
    "Y = np.zeros([nsta, ndates+1])\n",
    "Z = np.zeros([nsta, ndates+1])\n",
    "lat = np.zeros([nsta, ndates+1])\n",
    "lon = np.zeros([nsta, ndates+1])\n",
    "hgt = np.zeros([nsta, ndates+1])\n",
    "\n",
    "\n",
    "# Read in each .pos file\n",
    "for i in range(len(allposfiles)):\n",
    "    df = pd.read_csv(\n",
    "        os.path.join(maindir, allyeardirs[i], allposfiles[i]),\n",
    "        skiprows=20,\n",
    "        skipfooter=2,\n",
    "        engine='python',\n",
    "        sep=\"\\s+\",\n",
    "        names=[\"year\", \"month\", \"day\", \"t\", \"x\", \"y\", \"z\", \"lat\", \"lon\", \"hgt\"],\n",
    "    )\n",
    "    # Assemble date columns into datetime\n",
    "    df[\"date\"] = pd.to_datetime(df[['year','month','day']])\n",
    "\n",
    "    # Insert positions into proper row, column\n",
    "    rowid = stanames.index(allposfiles[i][0:-7]) # Row index\n",
    "    colid = np.flatnonzero(np.in1d(fulldates, df.date) & np.in1d(fulldates, df.date)) # Column indices\n",
    "    X[rowid, colid] = df.x\n",
    "    Y[rowid, colid] = df.y\n",
    "    Z[rowid, colid] = df.z\n",
    "    lon[rowid, colid] = df.lon\n",
    "    lat[rowid, colid] = df.lat\n",
    "    hgt[rowid, colid] = df.hgt\n",
    "\n",
    "# Calculate reference lon, lat for ENU conversion\n",
    "lonmean = np.sum(lon, axis=1)/np.sum(lon !=0, axis=1)\n",
    "latmean = np.sum(lat, axis=1)/np.sum(lat !=0, axis=1)\n",
    "\n",
    "# Convert names to np array of strings\n",
    "stanames = np.array(stanames)"
   ]
  },
  {
   "attachments": {},
   "cell_type": "markdown",
   "metadata": {},
   "source": [
    "## Trim arrays"
   ]
  },
  {
   "cell_type": "code",
   "execution_count": 2,
   "metadata": {},
   "outputs": [],
   "source": [
    "# Trim any blank columns\n",
    "xsum = np.sum(X, axis=0)\n",
    "keepcols = xsum != 0\n",
    "X = X[:, keepcols]\n",
    "Y = Y[:, keepcols]\n",
    "Z = Z[:, keepcols]\n",
    "lon = lon[:, keepcols] \n",
    "lat = lat[:, keepcols]\n",
    "hgt = hgt[:, keepcols]\n",
    "fulldates = fulldates[keepcols]\n",
    "# As numpy array. Needed to save in HDF5\n",
    "dates = np.array(fulldates)\n",
    "dates = np.array(dates, dtype='datetime64[D]') # Without times"
   ]
  },
  {
   "attachments": {},
   "cell_type": "markdown",
   "metadata": {},
   "source": [
    "## Make offset array"
   ]
  },
  {
   "cell_type": "code",
   "execution_count": 3,
   "metadata": {},
   "outputs": [],
   "source": [
    "def sph_distance(point1, point2):\n",
    "    R = 6370\n",
    "    lat1 = np.radians(point1[0])  #insert value\n",
    "    lon1 = np.radians(point1[1])\n",
    "    lat2 = np.radians(point2[0])\n",
    "    lon2 = np.radians(point2[1])\n",
    "\n",
    "    dlon = lon2 - lon1\n",
    "    dlat = lat2- lat1\n",
    "\n",
    "    a = np.sin(dlat / 2)**2 + np.cos(lat1) * np.cos(lat2) * np.sin(dlon / 2)**2\n",
    "    c = 2 * np.arctan2(np.sqrt(a), np.sqrt(1-a))\n",
    "    distance = R * c\n",
    "    return distance"
   ]
  },
  {
   "cell_type": "markdown",
   "metadata": {},
   "source": [
    "# Make offset matrix\n",
    "- `nSta-by-nDays` \n",
    "- Includes equipment maintenance\n",
    "- Includes earthquakes from CMT search ($M_W\\geq6.0$, $z < 100$ km)\n",
    "- Earthquakes are deemed to cause an offset if a station lies within $10^{0.36M_W - 0.15}$ km of the epicenter"
   ]
  },
  {
   "cell_type": "code",
   "execution_count": 4,
   "metadata": {},
   "outputs": [],
   "source": [
    "from scipy.spatial.distance import cdist\n",
    "\n",
    "# Load offsets \n",
    "offsets = pd.read_excel('f5/F3_offset_var221231.xlsx', 'Maintenance_list')\n",
    "# Get rid of unparseable characters\n",
    "offsets = offsets[offsets.month != \"?\"]\n",
    "# Assemble date columns into datetime\n",
    "offsets[\"date\"] = pd.to_datetime(offsets[['year','month','day']])\n",
    "# Reset index\n",
    "offsets.reset_index(inplace=True, drop=True)\n",
    "\n",
    "# Allocate space\n",
    "offs = np.zeros_like(X, dtype=bool)\n",
    "# For each offset, \n",
    "\n",
    "for i in range(len(offsets)):\n",
    "    siteidx = np.where(stanames == str(offsets.loc[i, \"site\"])) # Station index\n",
    "    dateidx = np.where(dates == offsets.loc[i, \"date\"]) # Date index\n",
    "    offs[siteidx, dateidx] = True # Set to True on day of offset\n",
    "\n",
    "# Load earthquakes \n",
    "eq = pd.read_csv(\"japan_cmt_1996-2023_m6_d100.psvelomeca\", sep=\"\\s+\")\n",
    "# Calculate moment and moment magnitude\n",
    "eq[\"mom\"] = eq.sc*np.power(10, eq.iexp, dtype=np.float64)\n",
    "eq[\"mag\"] = (2/3)*(np.log10(eq.mom)-16.1)\n",
    "# Distance threshold exponent\n",
    "threshexp = np.array(0.36*eq.mag - 0.15)\n",
    "threshdist = np.power(10, threshexp)\n",
    "threshdist = np.repeat(threshdist, len(lonmean)).reshape(len(eq), len(lonmean)).T\n",
    "\n",
    "# Distance between stations and earthquakes\n",
    "eq_points = eq[[\"lat\", \"lon\"]].values\n",
    "sta_points = np.array([latmean, lonmean]).T\n",
    "sta_eq_dist = cdist(sta_points, eq_points, sph_distance)\n",
    "# Logical array indicating if there should be an earthquake jump\n",
    "eqjump = np.less(sta_eq_dist, threshdist)\n",
    "# Insert at correct dates\n",
    "eqjumpdates = np.zeros_like(X, dtype=bool)\n",
    "\n",
    "for i in range(len(eq)):\n",
    "    # Parse dates from event name\n",
    "    eqname = eq.loc[i, \"name\"]\n",
    "    if len(eqname) == 13:\n",
    "        eqdate = datetime.strptime(eqname[0:8], '%Y%m%d')\n",
    "    else:\n",
    "        eqdate = datetime.strptime(eqname[0:6], '%m%d%y')\n",
    "\n",
    "    dateidx = np.where(dates == np.array(eqdate, dtype='datetime64[D]'))[0] # Date index\n",
    "    if len(dateidx) != 0:\n",
    "        eqjumpdates[:, dateidx[0]] = eqjumpdates[:, dateidx[0]] + eqjump[:, i]\n",
    "\n",
    "# Combine earthquakes with maintenance \n",
    "offs = offs + eqjumpdates\n",
    "# Cumulative sum  \n",
    "offs = np.cumsum(offs, axis=1)\n"
   ]
  },
  {
   "cell_type": "code",
   "execution_count": 5,
   "metadata": {},
   "outputs": [
    {
     "data": {
      "image/png": "[encoded data removed]",
      "text/plain": [
       "<Figure size 432x288 with 1 Axes>"
      ]
     },
     "metadata": {
      "needs_background": "light"
     },
     "output_type": "display_data"
    }
   ],
   "source": [
    "# Sample plot \n",
    "staidx = 120\n",
    "\n",
    "from matplotlib import pyplot as plt\n",
    "fig, ax = plt.subplots() # Set up the axes\n",
    "ax.plot(fulldates[lon[staidx, :] != 0], lon[staidx, lon[staidx, :] != 0], '.') # Place time vs. position in those axes for specified station\n",
    "theseoffs = np.where(np.diff(offs[staidx, :]) != 0)\n",
    "thesedates = dates[theseoffs]\n",
    "yl = ax.get_ylim()\n",
    "ax.vlines(thesedates, yl[0], yl[1], color='r')\n",
    "plt.show()\n",
    "\n"
   ]
  },
  {
   "attachments": {},
   "cell_type": "markdown",
   "metadata": {},
   "source": [
    "## Write data"
   ]
  },
  {
   "cell_type": "code",
   "execution_count": 17,
   "metadata": {},
   "outputs": [],
   "source": [
    "import h5py\n",
    "\n",
    "# Write to HDF5 file\n",
    "hf = h5py.File(\"geonet_f5.h5\", \"w\")\n",
    "hf[\"X\"] = X\n",
    "hf[\"Y\"] = Y\n",
    "hf[\"Z\"] = Z\n",
    "hf[\"lon\"] = lon\n",
    "hf[\"lat\"] = lat\n",
    "hf[\"hgt\"] = hgt\n",
    "hf[\"date\"] = dates.astype(h5py.opaque_dtype(dates.dtype))\n",
    "hf[\"name\"] = stanames.astype(object)\n",
    "hf[\"offsets\"] = offs\n",
    "hf.close()"
   ]
  },
  {
   "attachments": {},
   "cell_type": "markdown",
   "metadata": {},
   "source": [
    "## Test read data"
   ]
  },
  {
   "cell_type": "code",
   "execution_count": 18,
   "metadata": {},
   "outputs": [],
   "source": [
    "# Load data\n",
    "hf = h5py.File('geonet_f5.h5', 'r')\n",
    "X = np.array(hf[\"X\"])\n",
    "Y = np.array(hf[\"Y\"])\n",
    "Z = np.array(hf[\"Z\"])\n",
    "lon = np.array(hf[\"lon\"])\n",
    "lat = np.array(hf[\"lat\"])\n",
    "hgt = np.array(hf[\"hgt\"])\n",
    "date = np.array(hf[\"date\"]) # These include times\n",
    "date = np.array(date, dtype='datetime64[D]') # Without times\n",
    "name = hf[\"name\"].asstr()[:] # Makes a numpy array of strings\n",
    "offs = np.array(hf[\"offsets\"])\n",
    "# Calculate reference lon, lat for ENU conversion\n",
    "lonmean = np.sum(lon, axis=1)/np.sum(lon !=0, axis=1)\n",
    "latmean = np.sum(lat, axis=1)/np.sum(lat !=0, axis=1)"
   ]
  }
 ],
 "metadata": {
  "kernelspec": {
   "display_name": "base",
   "language": "python",
   "name": "python3"
  },
  "language_info": {
   "codemirror_mode": {
    "name": "ipython",
    "version": 3
   },
   "file_extension": ".py",
   "mimetype": "text/x-python",
   "name": "python",
   "nbconvert_exporter": "python",
   "pygments_lexer": "ipython3",
   "version": "3.9.12"
  },
  "orig_nbformat": 4,
  "vscode": {
   "interpreter": {
    "hash": "0363fde71cf22127ae87d2bd81c1d1b2bd6cf61f7ac8f473812d9f40100b3502"
   }
  }
 },
 "nbformat": 4,
 "nbformat_minor": 2
}

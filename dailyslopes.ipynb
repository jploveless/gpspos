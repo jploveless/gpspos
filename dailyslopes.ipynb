{
 "cells": [
  {
   "cell_type": "code",
   "execution_count": 7,
   "metadata": {},
   "outputs": [],
   "source": [
    "from matplotlib.transforms import offset_copy\n",
    "import numpy as np\n",
    "import h5py as h5py\n",
    "import math as math\n",
    "import matplotlib.pyplot as plt\n",
    "\n",
    "hdf5_file = h5py.File(\"./test.hdf5\", \"r\")\n",
    "datef = np.array(hdf5_file.get(\"date\"))\n",
    "eastposf = np.array(hdf5_file.get(\"eastpos\"))\n",
    "northposf = np.array(hdf5_file.get(\"northpos\"))\n",
    "offset = np.array(hdf5_file.get(\"offs\"))\n",
    "\n",
    "def dailyslopes(pos):\n",
    "\n",
    "    datef = np.array(hdf5_file.get(\"date\"))\n",
    "    offset = np.array(hdf5_file.get(\"offs\"))\n",
    "\n",
    "\n",
    "    # pos = eastposf\n",
    "\n",
    "    ns = np.size(datef, 0)\n",
    "    nd = np.size(datef, 1)\n",
    "\n",
    "    # datesleft = np.zeros((ns,nd))\n",
    "    # datesright = np.zeros((ns,nd))\n",
    "    # for i in range(0,ns):\n",
    "    #     shiftleft = np.min(np.nonzero(datef[i,:]))\n",
    "    #     shiftright = np.max(np.nonzero(datef[i,:]))\n",
    "\n",
    "    #     datesleft[i] = np.roll(datef[i], - shiftleft)\n",
    "    #     datesright[i] = np.roll(datef[i], - shiftright - 1)\n",
    "\n",
    "    nzdates = datef > 0\n",
    "\n",
    "    offset = np.transpose(offset)\n",
    "    slopes = np.zeros((ns,nd))\n",
    "    ltslope = np.zeros((ns,nd))\n",
    "    for i in range (0,1):\n",
    "        keep = nzdates[i,:]\n",
    "        keepdates = datef[i,keep]\n",
    "\n",
    "        wslopemat = np.transpose(np.array([((keepdates)), (np.ones(sum(keep))), ((np.sin((np.multiply((keepdates),2*math.pi/365.25))))), ((np.cos((np.multiply((keepdates),2*math.pi/365.25))))), ((np.sin((np.multiply((keepdates),2*math.pi/(365.25/2)))))), ((np.cos((np.multiply((keepdates),2*math.pi/(365.25/2)))))), ((np.sin((np.multiply((keepdates),2*math.pi/13.6608))))), ((np.cos((np.multiply((keepdates),2*math.pi/13.6608))))), ((np.sin((np.multiply((keepdates),2*math.pi/14.7653))))), ((np.cos((np.multiply((keepdates),2*math.pi/14.7653))))), ((np.sin((np.multiply((keepdates),2*math.pi/27.5546))))), ((np.cos((np.multiply((keepdates),2*math.pi/27.5546))))), ((np.sin((np.multiply((keepdates),2*math.pi/6793.65))))), ((np.cos((np.multiply((keepdates),2*math.pi/6793.65)))))]))\n",
    "        \n",
    "        # fig,ax = plt.subplots()\n",
    "        # ax.plot(datef[i,keep], eastposf[i,keep])\n",
    "        # plt.show()\n",
    "\n",
    "        postseismic = np.zeros((keepdates.shape[0],1))\n",
    "        eqidx = np.where(keepdates>=734573)\n",
    "        postseismic[eqidx,0] = .9995 ** (keepdates[eqidx]-734573)\n",
    "\n",
    "        numoffs = int(max(offset[:,i]))\n",
    "        offsetcol = offset[keep,i]\n",
    "        offsetmatrix = np.zeros((len(offsetcol),numoffs))\n",
    "        for j in range(len(offsetcol)):\n",
    "            offsetmatrix[j,0] = offsetcol[j]\n",
    "\n",
    "        for j in range (0,numoffs):\n",
    "            for k in range(0,len(offsetcol)):\n",
    "                if offsetmatrix[k,j] > 1:\n",
    "                    offsetmatrix[k,j+1] = offsetmatrix[k,j] - 1\n",
    "                    offsetmatrix[k,j] = 1\n",
    "\n",
    "        zerocolidx = np.array([])\n",
    "        for j in range (0, offsetmatrix.shape[1]):\n",
    "            if np.sum(offsetmatrix[j]) == 0:\n",
    "                zerocolidx = np.append(zerocolidx, j)\n",
    "        for j in range(len(zerocolidx), 0):\n",
    "            offsetmatrix = np.delete(offsetmatrix, zerocolidx[j], axis = 1)\n",
    "\n",
    "        wslopemat = np.concatenate((wslopemat, offsetmatrix), axis = 1)\n",
    "        wslopemat = np.hstack((wslopemat, postseismic))\n",
    "        wslopemat = np.unique(wslopemat, axis = 1) # makes matrix out of order    \n",
    "\n",
    "        lt_modelparam = np.linalg.lstsq(wslopemat, pos[i,keep])[0]\n",
    "        ltslope[i] = lt_modelparam[0];\n",
    "\n",
    "        pred = wslopemat @ lt_modelparam\n",
    "\n",
    "        # fig,ax = plt.subplots()\n",
    "        # ax.plot(datef[i, datef[i, :] != 0], eastposf[i, datef[i, :] != 0], '.') # Place time vs. position in those axes for specified station\n",
    "        # ax.plot(datef[i, datef[i, :] != 0], pred, '.')\n",
    "        # plt.show()\n",
    "\n",
    "        pos[i,keep] = pos[i,keep] - pred\n",
    "\n",
    "        # fig,ax = plt.subplots()\n",
    "        # ax.plot(datef[i, datef[i, :] != 0], pos, '.')\n",
    "        # plt.show()\n",
    "\n",
    "        windowlength = 20\n",
    "        timev = np.column_stack((np.array(range(0,windowlength + 1)), np.ones(windowlength + 1)))\n",
    "        slope = np.zeros((windowlength+1))\n",
    "        for j in range ((windowlength), (len(keepdates) - windowlength)):\n",
    "        # for j in range (20,21):\n",
    "            zeropos = 0\n",
    "            for k in range (0, windowlength + 1):\n",
    "                position = pos[i, j + (k-windowlength) : j + k + 1]\n",
    "                nzpos = position != 0\n",
    "                if np.sum(nzpos) > windowlength/2:\n",
    "                    slope[k] = np.linalg.lstsq(timev, position)[0][0]\n",
    "            nzslope = slope != 0\n",
    "            if np.sum(nzslope) > windowlength/2:\n",
    "                slopes[i,j] = np.mean(slope[np.nonzero(slope)], axis = 0)\n",
    "    return slopes, ltslope\n",
    "\n"
   ]
  },
  {
   "cell_type": "code",
   "execution_count": 8,
   "metadata": {},
   "outputs": [
    {
     "name": "stderr",
     "output_type": "stream",
     "text": [
      "/var/folders/6l/9yq_45597_35nrxp19gw8wb80000gn/T/ipykernel_11207/3956952557.py:75: FutureWarning: `rcond` parameter will change to the default of machine precision times ``max(M, N)`` where M and N are the input matrix dimensions.\n",
      "To use the future default and silence this warning we advise to pass `rcond=None`, to keep using the old, explicitly pass `rcond=-1`.\n",
      "  lt_modelparam = np.linalg.lstsq(wslopemat, pos[i,keep])[0]\n",
      "/var/folders/6l/9yq_45597_35nrxp19gw8wb80000gn/T/ipykernel_11207/3956952557.py:101: FutureWarning: `rcond` parameter will change to the default of machine precision times ``max(M, N)`` where M and N are the input matrix dimensions.\n",
      "To use the future default and silence this warning we advise to pass `rcond=None`, to keep using the old, explicitly pass `rcond=-1`.\n",
      "  slope[k] = np.linalg.lstsq(timev, position)[0][0]\n"
     ]
    }
   ],
   "source": [
    "slopese, ltslopee = dailyslopes(eastposf)\n",
    "slopesn, ltslopen = dailyslopes(northposf)\n"
   ]
  },
  {
   "cell_type": "code",
   "execution_count": 9,
   "metadata": {},
   "outputs": [
    {
     "name": "stdout",
     "output_type": "stream",
     "text": [
      "[0.00010665 0.00013086 0.00014527 0.00015989 0.00016577]\n",
      "[1.89113572e-05 2.04664758e-05 2.92379083e-05 3.44085890e-05\n",
      " 4.42543990e-05]\n",
      "[0.00564767 0.00395704 0.00157758 0.00799778 0.00407729]\n",
      "[79.94517164 81.11099572 78.62032664 77.85481926 75.05284268]\n"
     ]
    }
   ],
   "source": [
    "print(slopese[0][1838:1843])\n",
    "print(slopesn[0][1838:1843])\n",
    "print(northposf[0][1838:1843])\n",
    "\n",
    "angle = 90 - (180 / np.pi) * np.arctan2(slopesn, slopese)\n",
    "print(angle[0][1838:1843])"
   ]
  }
 ],
 "metadata": {
  "kernelspec": {
   "display_name": "Python 3.8.2 64-bit",
   "language": "python",
   "name": "python3"
  },
  "language_info": {
   "codemirror_mode": {
    "name": "ipython",
    "version": 3
   },
   "file_extension": ".py",
   "mimetype": "text/x-python",
   "name": "python",
   "nbconvert_exporter": "python",
   "pygments_lexer": "ipython3",
   "version": "3.8.2"
  },
  "orig_nbformat": 4,
  "vscode": {
   "interpreter": {
    "hash": "082e9a3bcad0a290d0001e938aa60b99250c6c2ef33a923c00b70f9826caf4b7"
   }
  }
 },
 "nbformat": 4,
 "nbformat_minor": 2
}
